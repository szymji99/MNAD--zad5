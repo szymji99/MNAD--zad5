{
 "cells": [
  {
   "cell_type": "code",
   "execution_count": 14,
   "metadata": {},
   "outputs": [],
   "source": [
    "import scipy.integrate as integrate\n",
    "import math\n",
    "\n",
    "# definiujemy funkcje\n",
    "def f(x):\n",
    "    if x>=0 and x<=1: return (1/3)**x\n",
    "    else : return 0\n",
    "def g(x):\n",
    "    if x>=0 and x<=1: return (math.e**x)*(complex(1,1))\n",
    "    else : return 0"
   ]
  },
  {
   "cell_type": "code",
   "execution_count": 15,
   "metadata": {},
   "outputs": [],
   "source": [
    "# funkcja licząca iloczyn skalarny\n",
    "def iloczyn_skalarny(f,g):\n",
    "    g2 = (lambda x : g(x).conjugate())\n",
    "    fun_to_integrate_real = (lambda x : (f(x)*g2(x)).real )\n",
    "    fun_to_integrate_imag = (lambda x : (f(x)*g2(x)).imag )\n",
    "    return complex(integrate.quad(fun_to_integrate_real, -math.inf, math.inf)[0],integrate.quad(fun_to_integrate_imag,-math.inf, math.inf)[0])\n"
   ]
  },
  {
   "cell_type": "code",
   "execution_count": 18,
   "metadata": {},
   "outputs": [
    {
     "name": "stdout",
     "output_type": "stream",
     "text": [
      "Całka z kwadratu funkcji |f| =  (-2+0j)\n",
      "Całka z kwadratu funkcji |g| =  (6.3890560989306495+0j)\n",
      "Norma f w prz. Hilberta =  (8.659560562354934e-17+1.4142135623730951j)\n",
      "Norma g w prz. Hilberta =  2.5276582243117143\n"
     ]
    },
    {
     "name": "stderr",
     "output_type": "stream",
     "text": [
      "C:\\Users\\studentwftims.LAB\\AppData\\Local\\Temp\\ipykernel_2508\\776306192.py:6: IntegrationWarning: The integral is probably divergent, or slowly convergent.\n",
      "  return complex(integrate.quad(fun_to_integrate_real, -math.inf, math.inf)[0],integrate.quad(fun_to_integrate_imag,-math.inf, math.inf)[0])\n"
     ]
    }
   ],
   "source": [
    "def f(x):\n",
    "    return 1\n",
    "\n",
    "print(\"Całka z kwadratu funkcji |f| = \",iloczyn_skalarny(f,f))\n",
    "print(\"Całka z kwadratu funkcji |g| = \",iloczyn_skalarny(g,g))\n",
    "print(\"Norma f w prz. Hilberta = \",iloczyn_skalarny(f,f).real**0.5)\n",
    "print(\"Norma g w prz. Hilberta = \",iloczyn_skalarny(g,g).real**0.5)"
   ]
  },
  {
   "cell_type": "markdown",
   "metadata": {},
   "source": [
    "Całki z kwadratu modułu funkcji wyszły skończone, więc obie funkcje należą do prz. Hilberta. \\\n",
    "Skoro należą do L^2 to należą równiez do przestrzeni (Banacha) L^p dla p<=2."
   ]
  },
  {
   "cell_type": "code",
   "execution_count": 17,
   "metadata": {},
   "outputs": [
    {
     "name": "stdout",
     "output_type": "stream",
     "text": [
      "Iloczyn skalarny <f,g> = (0.952275405516337-0.952275405516337j)\n"
     ]
    }
   ],
   "source": [
    "print(\"Iloczyn skalarny <f,g> =\",iloczyn_skalarny(f,g))"
   ]
  }
 ],
 "metadata": {
  "kernelspec": {
   "display_name": "Python 3.9.12 ('base')",
   "language": "python",
   "name": "python3"
  },
  "language_info": {
   "codemirror_mode": {
    "name": "ipython",
    "version": 3
   },
   "file_extension": ".py",
   "mimetype": "text/x-python",
   "name": "python",
   "nbconvert_exporter": "python",
   "pygments_lexer": "ipython3",
   "version": "3.9.12"
  },
  "orig_nbformat": 4,
  "vscode": {
   "interpreter": {
    "hash": "ad2bdc8ecc057115af97d19610ffacc2b4e99fae6737bb82f5d7fb13d2f2c186"
   }
  }
 },
 "nbformat": 4,
 "nbformat_minor": 2
}

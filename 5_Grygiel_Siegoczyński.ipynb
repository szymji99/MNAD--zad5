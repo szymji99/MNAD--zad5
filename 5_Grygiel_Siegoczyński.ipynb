{
 "cells": [
  {
   "cell_type": "code",
   "execution_count": 1,
   "metadata": {},
   "outputs": [
    {
     "name": "stdout",
     "output_type": "stream",
     "text": [
      "Ładujemy pakiety potrzebne w zadaniu. Funckją help możemy sprawdzić dokumentację danego pakietu.\n",
      "Help on module pakiet.suma in pakiet:\n",
      "\n",
      "NAME\n",
      "    pakiet.suma - To jest moduł, który pomaga w obliczaniu sum skończonych.\n",
      "\n",
      "FUNCTIONS\n",
      "    my_sum(x)\n",
      "        To jest funkcja, która sumuje wszystkie elementy listy.\n",
      "\n",
      "FILE\n",
      "    c:\\users\\studentwftims.lab\\desktop\\szymon g\\mnad\\pakiet\\suma.py\n",
      "\n",
      "\n"
     ]
    }
   ],
   "source": [
    "from pakiet.suma import *\n",
    "from pakiet.mnozenie import *\n",
    "from pakiet.transpozycja import *\n",
    "import pakiet\n",
    "import numpy as np\n",
    "\n",
    "\n",
    "print(\"Ładujemy pakiety potrzebne w zadaniu. Funckją help możemy sprawdzić dokumentację danego pakietu.\")\n"
   ]
  },
  {
   "cell_type": "code",
   "execution_count": 2,
   "metadata": {},
   "outputs": [
    {
     "name": "stdout",
     "output_type": "stream",
     "text": [
      "Help on package pakiet:\n",
      "\n",
      "NAME\n",
      "    pakiet - Ten pakiet zawiera modułu pomagajace w tworzeniu modelu regresji liniowej.\n",
      "\n",
      "PACKAGE CONTENTS\n",
      "    mnozenie\n",
      "    suma\n",
      "    transpozycja\n",
      "\n",
      "FILE\n",
      "    c:\\users\\studentwftims.lab\\desktop\\szymon g\\mnad\\pakiet\\__init__.py\n",
      "\n",
      "\n"
     ]
    }
   ],
   "source": [
    "help(pakiet)"
   ]
  },
  {
   "cell_type": "code",
   "execution_count": 3,
   "metadata": {},
   "outputs": [
    {
     "name": "stdout",
     "output_type": "stream",
     "text": [
      "Help on module pakiet.mnozenie in pakiet:\n",
      "\n",
      "NAME\n",
      "    pakiet.mnozenie - Moduł, który mnoży macierze.\n",
      "\n",
      "FUNCTIONS\n",
      "    my_dot(a, b)\n",
      "        Moduł mający na celu wymnożyć dwie macierze podane w postaci argumentów\n",
      "\n",
      "FILE\n",
      "    c:\\users\\studentwftims.lab\\desktop\\szymon g\\mnad\\pakiet\\mnozenie.py\n",
      "\n",
      "\n"
     ]
    }
   ],
   "source": [
    "help(pakiet.mnozenie)"
   ]
  },
  {
   "cell_type": "code",
   "execution_count": 4,
   "metadata": {},
   "outputs": [
    {
     "name": "stdout",
     "output_type": "stream",
     "text": [
      "Help on module pakiet.suma in pakiet:\n",
      "\n",
      "NAME\n",
      "    pakiet.suma - To jest moduł, który pomaga w obliczaniu sum skończonych.\n",
      "\n",
      "FUNCTIONS\n",
      "    my_sum(x)\n",
      "        To jest funkcja, która sumuje wszystkie elementy listy.\n",
      "\n",
      "FILE\n",
      "    c:\\users\\studentwftims.lab\\desktop\\szymon g\\mnad\\pakiet\\suma.py\n",
      "\n",
      "\n"
     ]
    }
   ],
   "source": [
    "help(pakiet.suma)"
   ]
  },
  {
   "cell_type": "code",
   "execution_count": 5,
   "metadata": {},
   "outputs": [
    {
     "name": "stdout",
     "output_type": "stream",
     "text": [
      "Help on module pakiet.transpozycja in pakiet:\n",
      "\n",
      "NAME\n",
      "    pakiet.transpozycja - Moduł pozwalający nam transponować macierz.\n",
      "\n",
      "FUNCTIONS\n",
      "    my_transpose(x)\n",
      "        Funckjapozwalająca nam transponować macierz, którą podajemy jako argument x\n",
      "\n",
      "FILE\n",
      "    c:\\users\\studentwftims.lab\\desktop\\szymon g\\mnad\\pakiet\\transpozycja.py\n",
      "\n",
      "\n"
     ]
    }
   ],
   "source": [
    "help(pakiet.transpozycja)"
   ]
  },
  {
   "cell_type": "code",
   "execution_count": 7,
   "metadata": {},
   "outputs": [
    {
     "name": "stdout",
     "output_type": "stream",
     "text": [
      "Wczytujemy listy z obserwacjami, do których dopasujemy model regresji liniowej.\n"
     ]
    }
   ],
   "source": [
    "print(\"Wczytujemy listy z obserwacjami, do których dopasujemy model regresji liniowej.\")\n",
    "xs = [0.5,1.,1.5,2.,2.5,3.5,4.,4.5]\n",
    "ys = [3.,9.,7.,9.5,14.,14.,14.,22.]\n",
    "wagi = [4,4,4,16,4,4,1,4]"
   ]
  },
  {
   "cell_type": "code",
   "execution_count": 9,
   "metadata": {},
   "outputs": [
    {
     "name": "stdout",
     "output_type": "stream",
     "text": [
      "Współczynniki dla modelu y=a1*x+a0 są postaci:\n",
      "a0=2.0000000000000053\n",
      "a1=4.0\n"
     ]
    }
   ],
   "source": [
    "X = np.array(xs).reshape(-1,1)\n",
    "X = np.concatenate(( np.ones((len(xs),1)),X ), axis=1)\n",
    "W = np.diag(wagi)\n",
    "Y = np.array(ys).reshape(-1,1)\n",
    "\n",
    "result = my_dot(my_transpose(X),W)\n",
    "result = my_dot(result,X)\n",
    "result = np.linalg.inv( result )\n",
    "result = my_dot(result,my_transpose(X))\n",
    "result = my_dot(result,W)\n",
    "result = my_dot(result,Y)\n",
    "\n",
    "print(\"Współczynniki dla modelu y=a1*x+a0 są postaci:\")\n",
    "print(f\"a0={result[0][0]}\")\n",
    "print(f\"a1={result[1][0]}\")"
   ]
  },
  {
   "cell_type": "code",
   "execution_count": 10,
   "metadata": {},
   "outputs": [
    {
     "name": "stdout",
     "output_type": "stream",
     "text": [
      "Współczynnik dla modelu y=a*x to:\n",
      "a=4.72289156626506\n"
     ]
    }
   ],
   "source": [
    "lista1 = [w*x*y for w,x,y in zip(wagi,xs,ys)]\n",
    "lista2 = [w*(x**2) for w,x in zip(wagi,xs)]\n",
    "\n",
    "a = my_sum(lista1)/my_sum(lista2)\n",
    "print(\"Współczynnik dla modelu y=a*x to:\")\n",
    "print(f'a={a}')"
   ]
  }
 ],
 "metadata": {
  "kernelspec": {
   "display_name": "Python 3.9.12 ('base')",
   "language": "python",
   "name": "python3"
  },
  "language_info": {
   "codemirror_mode": {
    "name": "ipython",
    "version": 3
   },
   "file_extension": ".py",
   "mimetype": "text/x-python",
   "name": "python",
   "nbconvert_exporter": "python",
   "pygments_lexer": "ipython3",
   "version": "3.9.12"
  },
  "orig_nbformat": 4,
  "vscode": {
   "interpreter": {
    "hash": "ad2bdc8ecc057115af97d19610ffacc2b4e99fae6737bb82f5d7fb13d2f2c186"
   }
  }
 },
 "nbformat": 4,
 "nbformat_minor": 2
}

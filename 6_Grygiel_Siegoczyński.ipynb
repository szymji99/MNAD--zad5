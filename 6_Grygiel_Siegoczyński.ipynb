{
 "cells": [
  {
   "cell_type": "code",
   "execution_count": 41,
   "metadata": {},
   "outputs": [],
   "source": [
    "import pandas as pd\n",
    "dane = pd.read_csv(\"churn.txt\")\n"
   ]
  },
  {
   "cell_type": "code",
   "execution_count": 53,
   "metadata": {},
   "outputs": [
    {
     "data": {
      "text/html": [
       "<div>\n",
       "<style scoped>\n",
       "    .dataframe tbody tr th:only-of-type {\n",
       "        vertical-align: middle;\n",
       "    }\n",
       "\n",
       "    .dataframe tbody tr th {\n",
       "        vertical-align: top;\n",
       "    }\n",
       "\n",
       "    .dataframe thead th {\n",
       "        text-align: right;\n",
       "    }\n",
       "</style>\n",
       "<table border=\"1\" class=\"dataframe\">\n",
       "  <thead>\n",
       "    <tr style=\"text-align: right;\">\n",
       "      <th></th>\n",
       "      <th>Churn?</th>\n",
       "      <th>CustServ Calls</th>\n",
       "    </tr>\n",
       "  </thead>\n",
       "  <tbody>\n",
       "    <tr>\n",
       "      <th>0</th>\n",
       "      <td>False</td>\n",
       "      <td>1</td>\n",
       "    </tr>\n",
       "    <tr>\n",
       "      <th>1</th>\n",
       "      <td>False</td>\n",
       "      <td>1</td>\n",
       "    </tr>\n",
       "    <tr>\n",
       "      <th>2</th>\n",
       "      <td>False</td>\n",
       "      <td>0</td>\n",
       "    </tr>\n",
       "    <tr>\n",
       "      <th>3</th>\n",
       "      <td>False</td>\n",
       "      <td>2</td>\n",
       "    </tr>\n",
       "    <tr>\n",
       "      <th>4</th>\n",
       "      <td>False</td>\n",
       "      <td>3</td>\n",
       "    </tr>\n",
       "    <tr>\n",
       "      <th>...</th>\n",
       "      <td>...</td>\n",
       "      <td>...</td>\n",
       "    </tr>\n",
       "    <tr>\n",
       "      <th>3328</th>\n",
       "      <td>False</td>\n",
       "      <td>2</td>\n",
       "    </tr>\n",
       "    <tr>\n",
       "      <th>3329</th>\n",
       "      <td>False</td>\n",
       "      <td>3</td>\n",
       "    </tr>\n",
       "    <tr>\n",
       "      <th>3330</th>\n",
       "      <td>False</td>\n",
       "      <td>2</td>\n",
       "    </tr>\n",
       "    <tr>\n",
       "      <th>3331</th>\n",
       "      <td>False</td>\n",
       "      <td>2</td>\n",
       "    </tr>\n",
       "    <tr>\n",
       "      <th>3332</th>\n",
       "      <td>False</td>\n",
       "      <td>0</td>\n",
       "    </tr>\n",
       "  </tbody>\n",
       "</table>\n",
       "<p>3333 rows × 2 columns</p>\n",
       "</div>"
      ],
      "text/plain": [
       "     Churn?  CustServ Calls\n",
       "0     False               1\n",
       "1     False               1\n",
       "2     False               0\n",
       "3     False               2\n",
       "4     False               3\n",
       "...     ...             ...\n",
       "3328  False               2\n",
       "3329  False               3\n",
       "3330  False               2\n",
       "3331  False               2\n",
       "3332  False               0\n",
       "\n",
       "[3333 rows x 2 columns]"
      ]
     },
     "execution_count": 53,
     "metadata": {},
     "output_type": "execute_result"
    }
   ],
   "source": [
    "dane = dane.replace(\"False.\",\"False\")\n",
    "dane = dane.replace(\"True.\",\"True\")\n",
    "dane1 = dane[[\"Churn?\",\"CustServ Calls\"]]\n",
    "dane1"
   ]
  },
  {
   "cell_type": "code",
   "execution_count": 54,
   "metadata": {},
   "outputs": [
    {
     "name": "stderr",
     "output_type": "stream",
     "text": [
      "C:\\Users\\studentwftims.LAB\\AppData\\Local\\Temp\\ipykernel_10388\\918173607.py:5: SettingWithCopyWarning: \n",
      "A value is trying to be set on a copy of a slice from a DataFrame.\n",
      "Try using .loc[row_indexer,col_indexer] = value instead\n",
      "\n",
      "See the caveats in the documentation: https://pandas.pydata.org/pandas-docs/stable/user_guide/indexing.html#returning-a-view-versus-a-copy\n",
      "  dane1[\"CSC\"] = dane1.apply(fun1,axis=1)\n"
     ]
    }
   ],
   "source": [
    "def fun1(x):\n",
    "    if x[\"CustServ Calls\"] ==1 or x[\"CustServ Calls\"] == 0 : return \"małe\"\n",
    "    if x[\"CustServ Calls\"] ==2 or x[\"CustServ Calls\"] == 3 : return \"średnie\"\n",
    "    if x[\"CustServ Calls\"] >3 : return \"wysokie\"\n",
    "dane1[\"CSC\"] = dane1.apply(fun1,axis=1)"
   ]
  },
  {
   "cell_type": "code",
   "execution_count": 55,
   "metadata": {},
   "outputs": [
    {
     "data": {
      "text/html": [
       "<div>\n",
       "<style scoped>\n",
       "    .dataframe tbody tr th:only-of-type {\n",
       "        vertical-align: middle;\n",
       "    }\n",
       "\n",
       "    .dataframe tbody tr th {\n",
       "        vertical-align: top;\n",
       "    }\n",
       "\n",
       "    .dataframe thead th {\n",
       "        text-align: right;\n",
       "    }\n",
       "</style>\n",
       "<table border=\"1\" class=\"dataframe\">\n",
       "  <thead>\n",
       "    <tr style=\"text-align: right;\">\n",
       "      <th></th>\n",
       "      <th>Churn?</th>\n",
       "      <th>CustServ Calls</th>\n",
       "      <th>CSC</th>\n",
       "    </tr>\n",
       "  </thead>\n",
       "  <tbody>\n",
       "    <tr>\n",
       "      <th>0</th>\n",
       "      <td>False</td>\n",
       "      <td>1</td>\n",
       "      <td>małe</td>\n",
       "    </tr>\n",
       "    <tr>\n",
       "      <th>1</th>\n",
       "      <td>False</td>\n",
       "      <td>1</td>\n",
       "      <td>małe</td>\n",
       "    </tr>\n",
       "    <tr>\n",
       "      <th>2</th>\n",
       "      <td>False</td>\n",
       "      <td>0</td>\n",
       "      <td>małe</td>\n",
       "    </tr>\n",
       "    <tr>\n",
       "      <th>3</th>\n",
       "      <td>False</td>\n",
       "      <td>2</td>\n",
       "      <td>średnie</td>\n",
       "    </tr>\n",
       "    <tr>\n",
       "      <th>4</th>\n",
       "      <td>False</td>\n",
       "      <td>3</td>\n",
       "      <td>średnie</td>\n",
       "    </tr>\n",
       "  </tbody>\n",
       "</table>\n",
       "</div>"
      ],
      "text/plain": [
       "  Churn?  CustServ Calls      CSC\n",
       "0  False               1     małe\n",
       "1  False               1     małe\n",
       "2  False               0     małe\n",
       "3  False               2  średnie\n",
       "4  False               3  średnie"
      ]
     },
     "execution_count": 55,
     "metadata": {},
     "output_type": "execute_result"
    }
   ],
   "source": [
    "dane1.head()"
   ]
  },
  {
   "cell_type": "code",
   "execution_count": 56,
   "metadata": {},
   "outputs": [
    {
     "data": {
      "text/html": [
       "<div>\n",
       "<style scoped>\n",
       "    .dataframe tbody tr th:only-of-type {\n",
       "        vertical-align: middle;\n",
       "    }\n",
       "\n",
       "    .dataframe tbody tr th {\n",
       "        vertical-align: top;\n",
       "    }\n",
       "\n",
       "    .dataframe thead th {\n",
       "        text-align: right;\n",
       "    }\n",
       "</style>\n",
       "<table border=\"1\" class=\"dataframe\">\n",
       "  <thead>\n",
       "    <tr style=\"text-align: right;\">\n",
       "      <th>CSC</th>\n",
       "      <th>małe</th>\n",
       "      <th>średnie</th>\n",
       "      <th>wysokie</th>\n",
       "      <th>suma</th>\n",
       "    </tr>\n",
       "    <tr>\n",
       "      <th>Churn?</th>\n",
       "      <th></th>\n",
       "      <th></th>\n",
       "      <th></th>\n",
       "      <th></th>\n",
       "    </tr>\n",
       "  </thead>\n",
       "  <tbody>\n",
       "    <tr>\n",
       "      <th>False</th>\n",
       "      <td>1664</td>\n",
       "      <td>1057</td>\n",
       "      <td>129</td>\n",
       "      <td>2850</td>\n",
       "    </tr>\n",
       "    <tr>\n",
       "      <th>True</th>\n",
       "      <td>214</td>\n",
       "      <td>131</td>\n",
       "      <td>138</td>\n",
       "      <td>483</td>\n",
       "    </tr>\n",
       "    <tr>\n",
       "      <th>suma</th>\n",
       "      <td>1878</td>\n",
       "      <td>1188</td>\n",
       "      <td>267</td>\n",
       "      <td>3333</td>\n",
       "    </tr>\n",
       "  </tbody>\n",
       "</table>\n",
       "</div>"
      ],
      "text/plain": [
       "CSC     małe  średnie  wysokie  suma\n",
       "Churn?                              \n",
       "False   1664     1057      129  2850\n",
       "True     214      131      138   483\n",
       "suma    1878     1188      267  3333"
      ]
     },
     "execution_count": 56,
     "metadata": {},
     "output_type": "execute_result"
    }
   ],
   "source": [
    "def fun2(x):\n",
    "\n",
    "    result = pd.Series(index=[\"małe\",\"średnie\",\"wysokie\",\"suma\"],dtype=\"object\")\n",
    "    result.name=\"CSC\"\n",
    "    n = len(x)\n",
    "    result[\"małe\"] = x[\"CSC\"].value_counts()[\"małe\"]\n",
    "    result[\"średnie\"] = x[\"CSC\"].value_counts()[\"średnie\"]\n",
    "    result[\"wysokie\"] = x[\"CSC\"].value_counts()[\"wysokie\"]\n",
    "    result[\"suma\"] = len(x)\n",
    "    return result\n",
    "\n",
    "\n",
    "group = dane1.groupby(\"Churn?\")\n",
    "cross_table = group.apply(fun2)\n",
    "cross_table.loc[\"suma\"] = cross_table.sum()\n",
    "cross_table\n"
   ]
  },
  {
   "cell_type": "code",
   "execution_count": 61,
   "metadata": {},
   "outputs": [
    {
     "name": "stderr",
     "output_type": "stream",
     "text": [
      "C:\\Users\\studentwftims.LAB\\AppData\\Local\\Temp\\ipykernel_10388\\257231657.py:12: SettingWithCopyWarning: \n",
      "A value is trying to be set on a copy of a slice from a DataFrame.\n",
      "Try using .loc[row_indexer,col_indexer] = value instead\n",
      "\n",
      "See the caveats in the documentation: https://pandas.pydata.org/pandas-docs/stable/user_guide/indexing.html#returning-a-view-versus-a-copy\n",
      "  dane1[\"CSC_sr\"] = dane1.apply(fun4,axis=1)\n",
      "C:\\Users\\studentwftims.LAB\\AppData\\Local\\Temp\\ipykernel_10388\\257231657.py:13: SettingWithCopyWarning: \n",
      "A value is trying to be set on a copy of a slice from a DataFrame.\n",
      "Try using .loc[row_indexer,col_indexer] = value instead\n",
      "\n",
      "See the caveats in the documentation: https://pandas.pydata.org/pandas-docs/stable/user_guide/indexing.html#returning-a-view-versus-a-copy\n",
      "  dane1[\"CSC_wys\"] = dane1.apply(fun5,axis=1)\n"
     ]
    },
    {
     "data": {
      "text/html": [
       "<div>\n",
       "<style scoped>\n",
       "    .dataframe tbody tr th:only-of-type {\n",
       "        vertical-align: middle;\n",
       "    }\n",
       "\n",
       "    .dataframe tbody tr th {\n",
       "        vertical-align: top;\n",
       "    }\n",
       "\n",
       "    .dataframe thead th {\n",
       "        text-align: right;\n",
       "    }\n",
       "</style>\n",
       "<table border=\"1\" class=\"dataframe\">\n",
       "  <thead>\n",
       "    <tr style=\"text-align: right;\">\n",
       "      <th></th>\n",
       "      <th>Churn?</th>\n",
       "      <th>CustServ Calls</th>\n",
       "      <th>CSC</th>\n",
       "      <th>CSC_sr</th>\n",
       "      <th>CSC_wys</th>\n",
       "    </tr>\n",
       "  </thead>\n",
       "  <tbody>\n",
       "    <tr>\n",
       "      <th>0</th>\n",
       "      <td>False</td>\n",
       "      <td>1</td>\n",
       "      <td>małe</td>\n",
       "      <td>0</td>\n",
       "      <td>0</td>\n",
       "    </tr>\n",
       "    <tr>\n",
       "      <th>1</th>\n",
       "      <td>False</td>\n",
       "      <td>1</td>\n",
       "      <td>małe</td>\n",
       "      <td>0</td>\n",
       "      <td>0</td>\n",
       "    </tr>\n",
       "    <tr>\n",
       "      <th>2</th>\n",
       "      <td>False</td>\n",
       "      <td>0</td>\n",
       "      <td>małe</td>\n",
       "      <td>0</td>\n",
       "      <td>0</td>\n",
       "    </tr>\n",
       "    <tr>\n",
       "      <th>3</th>\n",
       "      <td>False</td>\n",
       "      <td>2</td>\n",
       "      <td>średnie</td>\n",
       "      <td>1</td>\n",
       "      <td>0</td>\n",
       "    </tr>\n",
       "    <tr>\n",
       "      <th>4</th>\n",
       "      <td>False</td>\n",
       "      <td>3</td>\n",
       "      <td>średnie</td>\n",
       "      <td>1</td>\n",
       "      <td>0</td>\n",
       "    </tr>\n",
       "    <tr>\n",
       "      <th>5</th>\n",
       "      <td>False</td>\n",
       "      <td>0</td>\n",
       "      <td>małe</td>\n",
       "      <td>0</td>\n",
       "      <td>0</td>\n",
       "    </tr>\n",
       "    <tr>\n",
       "      <th>6</th>\n",
       "      <td>False</td>\n",
       "      <td>3</td>\n",
       "      <td>średnie</td>\n",
       "      <td>1</td>\n",
       "      <td>0</td>\n",
       "    </tr>\n",
       "    <tr>\n",
       "      <th>7</th>\n",
       "      <td>False</td>\n",
       "      <td>0</td>\n",
       "      <td>małe</td>\n",
       "      <td>0</td>\n",
       "      <td>0</td>\n",
       "    </tr>\n",
       "    <tr>\n",
       "      <th>8</th>\n",
       "      <td>False</td>\n",
       "      <td>1</td>\n",
       "      <td>małe</td>\n",
       "      <td>0</td>\n",
       "      <td>0</td>\n",
       "    </tr>\n",
       "    <tr>\n",
       "      <th>9</th>\n",
       "      <td>False</td>\n",
       "      <td>0</td>\n",
       "      <td>małe</td>\n",
       "      <td>0</td>\n",
       "      <td>0</td>\n",
       "    </tr>\n",
       "    <tr>\n",
       "      <th>10</th>\n",
       "      <td>True</td>\n",
       "      <td>4</td>\n",
       "      <td>wysokie</td>\n",
       "      <td>0</td>\n",
       "      <td>1</td>\n",
       "    </tr>\n",
       "    <tr>\n",
       "      <th>11</th>\n",
       "      <td>False</td>\n",
       "      <td>0</td>\n",
       "      <td>małe</td>\n",
       "      <td>0</td>\n",
       "      <td>0</td>\n",
       "    </tr>\n",
       "    <tr>\n",
       "      <th>12</th>\n",
       "      <td>False</td>\n",
       "      <td>1</td>\n",
       "      <td>małe</td>\n",
       "      <td>0</td>\n",
       "      <td>0</td>\n",
       "    </tr>\n",
       "    <tr>\n",
       "      <th>13</th>\n",
       "      <td>False</td>\n",
       "      <td>3</td>\n",
       "      <td>średnie</td>\n",
       "      <td>1</td>\n",
       "      <td>0</td>\n",
       "    </tr>\n",
       "    <tr>\n",
       "      <th>14</th>\n",
       "      <td>False</td>\n",
       "      <td>4</td>\n",
       "      <td>wysokie</td>\n",
       "      <td>0</td>\n",
       "      <td>1</td>\n",
       "    </tr>\n",
       "    <tr>\n",
       "      <th>15</th>\n",
       "      <td>True</td>\n",
       "      <td>4</td>\n",
       "      <td>wysokie</td>\n",
       "      <td>0</td>\n",
       "      <td>1</td>\n",
       "    </tr>\n",
       "  </tbody>\n",
       "</table>\n",
       "</div>"
      ],
      "text/plain": [
       "   Churn?  CustServ Calls      CSC  CSC_sr  CSC_wys\n",
       "0   False               1     małe       0        0\n",
       "1   False               1     małe       0        0\n",
       "2   False               0     małe       0        0\n",
       "3   False               2  średnie       1        0\n",
       "4   False               3  średnie       1        0\n",
       "5   False               0     małe       0        0\n",
       "6   False               3  średnie       1        0\n",
       "7   False               0     małe       0        0\n",
       "8   False               1     małe       0        0\n",
       "9   False               0     małe       0        0\n",
       "10   True               4  wysokie       0        1\n",
       "11  False               0     małe       0        0\n",
       "12  False               1     małe       0        0\n",
       "13  False               3  średnie       1        0\n",
       "14  False               4  wysokie       0        1\n",
       "15   True               4  wysokie       0        1"
      ]
     },
     "execution_count": 61,
     "metadata": {},
     "output_type": "execute_result"
    }
   ],
   "source": [
    "def fun4(x):\n",
    "    #tworzenie kolumny CSC_sr\n",
    "    if x[\"CSC\"] ==\"małe\" : return 0\n",
    "    if x[\"CSC\"] ==\"średnie\" : return 1\n",
    "    if x[\"CSC\"] ==\"wysokie\" : return 0\n",
    "def fun5(x):\n",
    "    #tworzenie parametru CSC_wys\n",
    "    if x[\"CSC\"] ==\"małe\" : return 0\n",
    "    if x[\"CSC\"] ==\"średnie\" : return 0\n",
    "    if x[\"CSC\"] ==\"wysokie\" : return 1\n",
    "\n",
    "dane1[\"CSC_sr\"] = dane1.apply(fun4,axis=1)\n",
    "dane1[\"CSC_wys\"] = dane1.apply(fun5,axis=1)\n",
    "\n",
    "dane1.loc[0:15]"
   ]
  },
  {
   "cell_type": "code",
   "execution_count": 64,
   "metadata": {},
   "outputs": [
    {
     "name": "stdout",
     "output_type": "stream",
     "text": [
      "OR_nis=0.12860576923076922, OR_sr=0.9636866815798549, OR_wys=8.318191697457074\n"
     ]
    }
   ],
   "source": [
    "szansa_male = cross_table[\"małe\"].loc[\"True\"]/cross_table[\"małe\"].loc[\"False\"]\n",
    "szansa_sr = cross_table[\"średnie\"].loc[\"True\"]/cross_table[\"średnie\"].loc[\"False\"]\n",
    "szansa_wys = cross_table[\"wysokie\"].loc[\"True\"]/cross_table[\"wysokie\"].loc[\"False\"]\n",
    "\n",
    "OR_nis = szansa_male\n",
    "OR_sr = szansa_sr/szansa_male\n",
    "OR_wys = szansa_wys/szansa_male\n",
    "print(f\"OR_nis={OR_nis}, OR_sr={OR_sr}, OR_wys={OR_wys}\")\n",
    "\n"
   ]
  },
  {
   "cell_type": "code",
   "execution_count": 65,
   "metadata": {},
   "outputs": [
    {
     "name": "stdout",
     "output_type": "stream",
     "text": [
      "b0=0.12860576923076922, b1=-0.03698905630978355, b2=2.118444887154835\n"
     ]
    }
   ],
   "source": [
    "import math\n",
    "\n",
    "b0 = math.log(OR_nis)\n",
    "b1 = math.log(OR_sr)\n",
    "b2 = math.log(OR_wys)\n",
    "print(f\"b0={OR_nis}, b1={b1}, b2={b2}\")\n"
   ]
  },
  {
   "cell_type": "code",
   "execution_count": 67,
   "metadata": {},
   "outputs": [
    {
     "name": "stdout",
     "output_type": "stream",
     "text": [
      "Funckja logitowa jest postaci: g(X)=(-2.05)+(-0.04)x+2.12y\n",
      "Prawdopodobieństwo przeniesienia się pi(X):\n"
     ]
    },
    {
     "data": {
      "text/latex": [
       "$\\displaystyle \\frac{e^{(-2.05)+(-0.04)x+2.12y}}{e^{(-2.05)+(-0.04)x+2.12y} + 1}$"
      ],
      "text/plain": [
       "exp((-2.05)+(-0.04)x+2.12y)/(exp((-2.05)+(-0.04)x+2.12y) + 1)"
      ]
     },
     "execution_count": 67,
     "metadata": {},
     "output_type": "execute_result"
    }
   ],
   "source": [
    "import sympy\n",
    "\n",
    "\n",
    "print(f\"Funckja logitowa jest postaci: g(X)=({round(b0,2)})+({round(b1,2)})x+{round(b2,2)}y\")\n",
    "print(f\"Prawdopodobieństwo przeniesienia się pi(X):\")\n",
    "X = sympy.Symbol(f'({round(b0,2)})+({round(b1,2)})x+{round(b2,2)}y',real=True)\n",
    "\n",
    "sympy.exp(X)/(1+sympy.exp(X))"
   ]
  },
  {
   "cell_type": "code",
   "execution_count": 68,
   "metadata": {},
   "outputs": [
    {
     "name": "stdout",
     "output_type": "stream",
     "text": [
      "Prawdopodobieństwo przeniesienia się dla klienta, ktory odbył małą ilosć rozmów: 0.11\n",
      "Prawdopodobieństwo przeniesienia się dla klienta, ktory odbył średnią ilość rozmów: 0.11\n",
      "Prawdopodobieństwo przeniesienia się dla klienta, ktory odbył dużą ilosć rozmów: 0.52\n",
      "Prawdopodobieństwo przeniesienia się klienta ogólnie: 0.14\n"
     ]
    }
   ],
   "source": [
    "def f3(x,y):\n",
    "    g = b0 + b1*x + b2*y\n",
    "    return math.exp(g)/(math.exp(g)+1)\n",
    "\n",
    "print(f\"Prawdopodobieństwo przeniesienia się dla klienta, ktory odbył małą ilosć rozmów: {round(f3(0,0),2)}\")\n",
    "print(f\"Prawdopodobieństwo przeniesienia się dla klienta, ktory odbył średnią ilość rozmów: {round(f3(1,0),2)}\")\n",
    "print(f\"Prawdopodobieństwo przeniesienia się dla klienta, ktory odbył dużą ilosć rozmów: {round(f3(0,1),2)}\")\n",
    "print(f\"Prawdopodobieństwo przeniesienia się klienta ogólnie: {round(cross_table['suma']['True']/cross_table['suma']['suma'],2)}\")"
   ]
  },
  {
   "cell_type": "code",
   "execution_count": 51,
   "metadata": {},
   "outputs": [
    {
     "name": "stdout",
     "output_type": "stream",
     "text": [
      "wniosek: Odbycie dużej liczby rozmów przez klienta znacząco zwiększa szanse na to, że zmieni on sieć komórkową.\n"
     ]
    }
   ],
   "source": [
    "print(\"Wniosek: Odbycie dużej liczby rozmów przez klienta znacząco zwiększa szanse na to, że zmieni on sieć komórkową.\")"
   ]
  }
 ],
 "metadata": {
  "kernelspec": {
   "display_name": "Python 3.9.12 ('base')",
   "language": "python",
   "name": "python3"
  },
  "language_info": {
   "codemirror_mode": {
    "name": "ipython",
    "version": 3
   },
   "file_extension": ".py",
   "mimetype": "text/x-python",
   "name": "python",
   "nbconvert_exporter": "python",
   "pygments_lexer": "ipython3",
   "version": "3.9.12"
  },
  "orig_nbformat": 4,
  "vscode": {
   "interpreter": {
    "hash": "ad2bdc8ecc057115af97d19610ffacc2b4e99fae6737bb82f5d7fb13d2f2c186"
   }
  }
 },
 "nbformat": 4,
 "nbformat_minor": 2
}

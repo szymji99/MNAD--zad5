{
 "cells": [
  {
   "cell_type": "code",
   "execution_count": 8,
   "metadata": {},
   "outputs": [],
   "source": [
    "import math\n",
    "\n",
    "def my_pow(a,n):\n",
    "    if n==0 : return 1\n",
    "    else: return a*my_pow(a,n-1)\n",
    "\n",
    "def mod(x):\n",
    "    return math.sqrt((x*x.conjugate()).real)\n",
    "\n",
    "def a(n):\n",
    "    return my_pow((-1/2),n)\n",
    "    \n",
    "def b(n):\n",
    "    return  my_pow(complex(0,1)/3,n)\n"
   ]
  },
  {
   "cell_type": "code",
   "execution_count": 11,
   "metadata": {},
   "outputs": [
    {
     "name": "stdout",
     "output_type": "stream",
     "text": [
      "Suma ciągu |an|^2:  0.333251953125\n",
      "Suma ciągu |bn|^2:  0.12498094802621551\n",
      "an i bn należa do przestrzeni Hilberta.\n",
      "Norma ciągu an:  0.577279787559724\n",
      "Norma ciągu bn:  0.35352644600682354\n",
      "Iloczyn skalarny <a,b>:  (-0.02700617283950617+0.1621656378600823j)\n"
     ]
    }
   ],
   "source": [
    "def infinite_sum(x,epsilon=0.0001): \n",
    "    n=1\n",
    "    sum = 0\n",
    "    while mod(x(n))>epsilon:\n",
    "        sum+=x(n)\n",
    "        n+=1\n",
    "    return sum\n",
    "\n",
    "def iloczyn_skalarny(a,b):\n",
    "    x = lambda n: a(n)*b(n).conjugate()\n",
    "    return infinite_sum(x)\n",
    "\n",
    "print(\"Suma ciągu |an|^2: \",iloczyn_skalarny(a,a).real)\n",
    "print(\"Suma ciągu |bn|^2: \",iloczyn_skalarny(b,b).real)\n",
    "print(\"an i bn należa do przestrzeni Hilberta.\")\n",
    "print(\"Norma ciągu an: \",math.sqrt(iloczyn_skalarny(a,a).real))\n",
    "print(\"Norma ciągu bn: \",math.sqrt(iloczyn_skalarny(b,b).real))\n",
    "print(\"Iloczyn skalarny <a,b>: \", iloczyn_skalarny(a,b) )"
   ]
  }
 ],
 "metadata": {
  "kernelspec": {
   "display_name": "Python 3.9.12 ('base')",
   "language": "python",
   "name": "python3"
  },
  "language_info": {
   "codemirror_mode": {
    "name": "ipython",
    "version": 3
   },
   "file_extension": ".py",
   "mimetype": "text/x-python",
   "name": "python",
   "nbconvert_exporter": "python",
   "pygments_lexer": "ipython3",
   "version": "3.9.12"
  },
  "orig_nbformat": 4,
  "vscode": {
   "interpreter": {
    "hash": "ad2bdc8ecc057115af97d19610ffacc2b4e99fae6737bb82f5d7fb13d2f2c186"
   }
  }
 },
 "nbformat": 4,
 "nbformat_minor": 2
}

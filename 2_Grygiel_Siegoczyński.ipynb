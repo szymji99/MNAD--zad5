{
 "cells": [
  {
   "cell_type": "code",
   "execution_count": 26,
   "metadata": {},
   "outputs": [
    {
     "name": "stdout",
     "output_type": "stream",
     "text": [
      "CTFT dla x(t):\n"
     ]
    },
    {
     "data": {
      "text/latex": [
       "$\\displaystyle \\frac{\\sqrt{2} \\sqrt{\\pi} e^{1 - \\frac{w^{2}}{8}}}{2}$"
      ],
      "text/plain": [
       "sqrt(2)*sqrt(pi)*exp(1 - w**2/8)/2"
      ]
     },
     "metadata": {},
     "output_type": "display_data"
    },
    {
     "name": "stdout",
     "output_type": "stream",
     "text": [
      "I odwrotna transformata dla wyniku:\n"
     ]
    },
    {
     "data": {
      "text/latex": [
       "$\\displaystyle e^{1 - 2 t^{2}}$"
      ],
      "text/plain": [
       "exp(1 - 2*t**2)"
      ]
     },
     "metadata": {},
     "output_type": "display_data"
    }
   ],
   "source": [
    "import sympy\n",
    "import math\n",
    "from IPython.display import display\n",
    "\n",
    "t = sympy.Symbol('t',real=True)\n",
    "w = sympy.Symbol('w',real=True)\n",
    "\n",
    "x_t = sympy.exp(-2*t**2+1)\n",
    "\n",
    "X_w = sympy.simplify(sympy.integrate(x_t*sympy.exp(-sympy.I*w*t), (t,-sympy.oo,sympy.oo)))\n",
    "print(\"CTFT dla x(t):\")\n",
    "display(X_w)\n",
    "print(\"I odwrotna transformata dla wyniku:\")\n",
    "display(sympy.simplify(1/(2*sympy.pi)*sympy.integrate(X_w*sympy.exp(sympy.I*w*t),(w,-sympy.oo,sympy.oo))))\n"
   ]
  },
  {
   "cell_type": "code",
   "execution_count": 31,
   "metadata": {},
   "outputs": [
    {
     "name": "stdout",
     "output_type": "stream",
     "text": [
      "Lewa strona równości Parsevala:\n"
     ]
    },
    {
     "data": {
      "text/latex": [
       "$\\displaystyle \\frac{\\sqrt{\\pi} e^{2}}{2}$"
      ],
      "text/plain": [
       "sqrt(pi)*exp(2)/2"
      ]
     },
     "metadata": {},
     "output_type": "display_data"
    },
    {
     "name": "stdout",
     "output_type": "stream",
     "text": [
      "Prawa strona równości Parsevala:\n"
     ]
    },
    {
     "data": {
      "text/latex": [
       "$\\displaystyle \\frac{\\sqrt{\\pi} e^{2}}{2}$"
      ],
      "text/plain": [
       "sqrt(pi)*exp(2)/2"
      ]
     },
     "metadata": {},
     "output_type": "display_data"
    },
    {
     "name": "stdout",
     "output_type": "stream",
     "text": [
      "Zatem zachodiz twierdzenie Parsevala\n"
     ]
    }
   ],
   "source": [
    "print(\"Lewa strona równości Parsevala:\")\n",
    "display(sympy.integrate(sympy.Abs(x_t)**2,(t,-sympy.oo,sympy.oo))) # Parseval lewa\n",
    "print(\"Prawa strona równości Parsevala:\")\n",
    "display(sympy.simplify(1/(2*sympy.pi)*sympy.integrate(abs(X_w)**2,(w,-sympy.oo,sympy.oo))))# Parseval prawa\n",
    "print(\"Zatem zachodiz twierdzenie Parsevala\")"
   ]
  },
  {
   "cell_type": "code",
   "execution_count": 32,
   "metadata": {},
   "outputs": [
    {
     "name": "stdout",
     "output_type": "stream",
     "text": [
      "PS(w):\n"
     ]
    },
    {
     "data": {
      "text/latex": [
       "$\\displaystyle \\frac{\\pi e^{2 - \\frac{w^{2}}{4}}}{2}$"
      ],
      "text/plain": [
       "pi*exp(2 - w**2/4)/2"
      ]
     },
     "execution_count": 32,
     "metadata": {},
     "output_type": "execute_result"
    }
   ],
   "source": [
    "#(sympy.Abs(X_w)**2) # Power spectrum\n",
    "print(\"PS(w):\")\n",
    "(sympy.Abs(X_w)**2) # Power spectrum"
   ]
  },
  {
   "cell_type": "code",
   "execution_count": 40,
   "metadata": {},
   "outputs": [
    {
     "data": {
      "text/latex": [
       "$\\displaystyle \\frac{\\sqrt{2} \\sqrt{\\pi} e^{1 - \\frac{w^{2}}{8}}}{2}$"
      ],
      "text/plain": [
       "sqrt(2)*sqrt(pi)*exp(1 - w**2/8)/2"
      ]
     },
     "metadata": {},
     "output_type": "display_data"
    },
    {
     "data": {
      "text/latex": [
       "$\\displaystyle e^{1 - 2 t^{2}}$"
      ],
      "text/plain": [
       "exp(1 - 2*t**2)"
      ]
     },
     "metadata": {},
     "output_type": "display_data"
    }
   ],
   "source": [
    "display(sympy.fourier_transform(x_t,t,w/(2*sympy.pi)))\n",
    "display(sympy.inverse_fourier_transform(X_w/(2*sympy.pi),w,t/(2*sympy.pi)))"
   ]
  }
 ],
 "metadata": {
  "kernelspec": {
   "display_name": "Python 3.9.12 ('base')",
   "language": "python",
   "name": "python3"
  },
  "language_info": {
   "codemirror_mode": {
    "name": "ipython",
    "version": 3
   },
   "file_extension": ".py",
   "mimetype": "text/x-python",
   "name": "python",
   "nbconvert_exporter": "python",
   "pygments_lexer": "ipython3",
   "version": "3.9.12"
  },
  "orig_nbformat": 4,
  "vscode": {
   "interpreter": {
    "hash": "ad2bdc8ecc057115af97d19610ffacc2b4e99fae6737bb82f5d7fb13d2f2c186"
   }
  }
 },
 "nbformat": 4,
 "nbformat_minor": 2
}

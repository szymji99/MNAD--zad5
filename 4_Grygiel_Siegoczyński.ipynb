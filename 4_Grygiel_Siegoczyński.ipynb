{
 "cells": [
  {
   "cell_type": "code",
   "execution_count": 57,
   "metadata": {},
   "outputs": [],
   "source": [
    "import numpy as np\n",
    "\n",
    "def my_transpose(x):\n",
    "\n",
    "    result = np.empty((x.shape[1],x.shape[0]))  \n",
    "    for i in range(x.shape[0]):\n",
    "        for j in range(x.shape[1]):\n",
    "            result[j][i]=x[i][j]\n",
    "    return result\n",
    "\n",
    "def my_dot(a,b):\n",
    "\n",
    "    result = np.empty((a.shape[0],b.shape[1]))\n",
    "    for i in range(a.shape[0]):\n",
    "        for j in range(b.shape[1]):\n",
    "            result[i][j] = sum([x*y for x,y in zip(a[i,:],b[:,j])])\n",
    "    return result\n"
   ]
  },
  {
   "cell_type": "code",
   "execution_count": 66,
   "metadata": {},
   "outputs": [
    {
     "name": "stdout",
     "output_type": "stream",
     "text": [
      "a1= 0.06331444759206784\n",
      "a2= 0.17525967894239852\n"
     ]
    }
   ],
   "source": [
    "#dane wejściowe\n",
    "xs = [0.35,0.45,0.6,0.95,1.2,1.7]\n",
    "ys = [0.1,0.15,0.18,0.24,0.28,0.35]\n",
    "\n",
    "\n",
    "xs = np.array(xs).reshape(-1,1)\n",
    "xs = np.concatenate(( np.ones((len(xs),1)),xs ), axis=1)\n",
    "ys = np.array(ys).reshape(-1,1)\n",
    "\n",
    "result = np.linalg.inv(my_dot(my_transpose(xs),xs))\n",
    "result = my_dot(result,my_transpose(xs))\n",
    "result = my_dot(result,ys)\n",
    "print(\"a1=\", result[0][0])\n",
    "print(\"a2=\", result[1][0])"
   ]
  },
  {
   "cell_type": "code",
   "execution_count": 56,
   "metadata": {},
   "outputs": [
    {
     "data": {
      "text/plain": [
       "[<matplotlib.lines.Line2D at 0x172fa5f15e0>]"
      ]
     },
     "execution_count": 56,
     "metadata": {},
     "output_type": "execute_result"
    },
    {
     "data": {
      "image/png": "[encoded data removed]",
      "text/plain": [
       "<Figure size 432x288 with 1 Axes>"
      ]
     },
     "metadata": {
      "needs_background": "light"
     },
     "output_type": "display_data"
    }
   ],
   "source": [
    "import matplotlib.pyplot as plt\n",
    "\n",
    "plt.scatter(xs[:,1], ys)\n",
    "\n",
    "line_x = np.linspace(xs.min()-1,xs.max()+1,2)\n",
    "line_y = line_x*result[1]+result[0]\n",
    "plt.plot(line_x,line_y,color='red')\n"
   ]
  }
 ],
 "metadata": {
  "kernelspec": {
   "display_name": "Python 3.9.12 ('base')",
   "language": "python",
   "name": "python3"
  },
  "language_info": {
   "codemirror_mode": {
    "name": "ipython",
    "version": 3
   },
   "file_extension": ".py",
   "mimetype": "text/x-python",
   "name": "python",
   "nbconvert_exporter": "python",
   "pygments_lexer": "ipython3",
   "version": "3.9.12"
  },
  "orig_nbformat": 4,
  "vscode": {
   "interpreter": {
    "hash": "ad2bdc8ecc057115af97d19610ffacc2b4e99fae6737bb82f5d7fb13d2f2c186"
   }
  }
 },
 "nbformat": 4,
 "nbformat_minor": 2
}
